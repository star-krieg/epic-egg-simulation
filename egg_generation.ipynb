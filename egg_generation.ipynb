{
 "cells": [
  {
   "cell_type": "code",
   "execution_count": 1,
   "id": "1fd48bd7-adcb-42e7-b148-74a3d6a7c717",
   "metadata": {
    "tags": []
   },
   "outputs": [],
   "source": [
    "import numpy as np\n",
    "import pandas as pd\n",
    "import matplotlib.pyplot as plt"
   ]
  },
  {
   "cell_type": "code",
   "execution_count": 2,
   "id": "9edca26a-f72b-4c87-9a79-730743b27451",
   "metadata": {
    "tags": []
   },
   "outputs": [],
   "source": [
    "#Load old epic egg weights file\n",
    "epic_egg = pd.read_csv(\"epic_egg_weights.csv\")\n",
    "epic_egg[\"p\"] = epic_egg.loc[:,\"Weight\"]/epic_egg.loc[:,\"Weight\"].sum()\n",
    "\n",
    "paradox = list(epic_egg[epic_egg[\"Label\"] == \"PARADOX\"].iloc[:,0])\n",
    "egg_only = list(epic_egg[epic_egg[\"Label\"] == \"EGGSCLUSIVE\"].iloc[:,0])\n",
    "\n",
    "all_egg_only = paradox+egg_only"
   ]
  },
  {
   "cell_type": "code",
   "execution_count": 3,
   "id": "c325af8d-8dba-427a-88e9-b21833b14984",
   "metadata": {
    "tags": []
   },
   "outputs": [],
   "source": [
    "#Load new epic egg weights file (thank you c4v)\n",
    "epic_egg_new = pd.read_csv(\"epic_egg_weights_updated_fixed.csv\")\n",
    "epic_egg_new = epic_egg_new[:-1] #Drop the last row\n",
    "epic_egg_new[\"p\"] = epic_egg_new.loc[:,\"Weight\"]/epic_egg_new.loc[:,\"Weight\"].sum()\n",
    "\n",
    "paradox_new = list(epic_egg_new[epic_egg_new[\"Label\"] == \"PARADOX\"].iloc[:,0])\n",
    "egg_only_new = list(epic_egg_new[epic_egg_new[\"Label\"] == \"EGGSCLUSIVE\"].iloc[:,0])\n",
    "\n",
    "all_egg_only_new = paradox_new + egg_only_new"
   ]
  },
  {
   "cell_type": "code",
   "execution_count": 4,
   "id": "15e3d76b-5750-4074-b7a4-8e2948426cae",
   "metadata": {
    "tags": []
   },
   "outputs": [
    {
     "data": {
      "text/plain": [
       "0     100\n",
       "1     175\n",
       "2     175\n",
       "3     175\n",
       "4     175\n",
       "     ... \n",
       "90    175\n",
       "91    100\n",
       "92    175\n",
       "93    100\n",
       "94    175\n",
       "Name: Weight, Length: 95, dtype: int64"
      ]
     },
     "execution_count": 4,
     "metadata": {},
     "output_type": "execute_result"
    }
   ],
   "source": [
    "epic_egg_new.loc[:,\"Weight\"]"
   ]
  },
  {
   "cell_type": "code",
   "execution_count": 5,
   "id": "0bd05d4e-a2b0-46f2-92e4-36e7fc0558bb",
   "metadata": {
    "tags": []
   },
   "outputs": [],
   "source": [
    "def namespace_gen(df):\n",
    "    paradox = list(df[df[\"Label\"] == \"PARADOX\"].iloc[:,0])\n",
    "    egg_only = list(df[df[\"Label\"] == \"EGGSCLUSIVE\"].iloc[:,0])\n",
    "\n",
    "    all_egg_only = paradox+egg_only\n",
    "    \n",
    "    return paradox, egg_only, all_egg_only"
   ]
  },
  {
   "cell_type": "code",
   "execution_count": 6,
   "id": "9ad4ab49-1bcb-4d85-8222-4cf0f09e073e",
   "metadata": {
    "tags": []
   },
   "outputs": [],
   "source": [
    "def choose_egg(df):\n",
    "    return np.random.choice(df.iloc[:,0], p = df.loc[:,'p'])"
   ]
  },
  {
   "cell_type": "code",
   "execution_count": 7,
   "id": "8dc32a0e-f76a-42f5-8343-f94ba035c23c",
   "metadata": {
    "tags": []
   },
   "outputs": [],
   "source": [
    "def complete_eggsclusives(df):\n",
    "    egg_list = []\n",
    "    cond = 0\n",
    "    counter = 0\n",
    "\n",
    "    while cond == False:\n",
    "        egg_list.append(choose_egg(df))\n",
    "        counter += 1\n",
    "\n",
    "        cond = all(elem in egg_list for elem in all_egg_only)\n",
    "\n",
    "        #if counter % 1000 == 0:\n",
    "        #    print(f\"Eggs generated:{counter}\")\n",
    "            \n",
    "    return egg_list"
   ]
  },
  {
   "cell_type": "code",
   "execution_count": 9,
   "id": "97beedf2-0e73-4ef3-bd97-8519546a1617",
   "metadata": {
    "tags": []
   },
   "outputs": [],
   "source": [
    "def run_egg_sim(weights_df,num_realizations, filename = \"output.pkl\"):\n",
    "    egg_collect = []\n",
    "\n",
    "    for i in range(num_realizations):\n",
    "        egg_collect.append(complete_eggsclusives(epic_egg_new))\n",
    "\n",
    "    egg_counts = [len(egg_list) for egg_list in egg_collect]\n",
    "\n",
    "    egg_realizations_new_df = pd.DataFrame([egg_collect , egg_counts]).T\n",
    "    egg_realizations_new_df.columns = [\"egg_data\", \"counts\"]\n",
    "\n",
    "    egg_realizations_new_df.to_pickle(filename) #Save DataFrame to a pickle file for storage\n",
    "    \n",
    "    return egg_realizations_new_df"
   ]
  },
  {
   "cell_type": "code",
   "execution_count": 11,
   "id": "9521a179-e6a7-4069-a011-cc83338089a5",
   "metadata": {
    "tags": []
   },
   "outputs": [
    {
     "data": {
      "text/html": [
       "<div>\n",
       "<style scoped>\n",
       "    .dataframe tbody tr th:only-of-type {\n",
       "        vertical-align: middle;\n",
       "    }\n",
       "\n",
       "    .dataframe tbody tr th {\n",
       "        vertical-align: top;\n",
       "    }\n",
       "\n",
       "    .dataframe thead th {\n",
       "        text-align: right;\n",
       "    }\n",
       "</style>\n",
       "<table border=\"1\" class=\"dataframe\">\n",
       "  <thead>\n",
       "    <tr style=\"text-align: right;\">\n",
       "      <th></th>\n",
       "      <th>egg_data</th>\n",
       "      <th>counts</th>\n",
       "    </tr>\n",
       "  </thead>\n",
       "  <tbody>\n",
       "    <tr>\n",
       "      <th>0</th>\n",
       "      <td>[XURKITREE, SANDY_SHOCKS, AZELF, CRESSELIA, OK...</td>\n",
       "      <td>462</td>\n",
       "    </tr>\n",
       "    <tr>\n",
       "      <th>1</th>\n",
       "      <td>[ZERAORA, TING_LU, BRUTE_BONNET, UXIE, KELDEO,...</td>\n",
       "      <td>371</td>\n",
       "    </tr>\n",
       "    <tr>\n",
       "      <th>2</th>\n",
       "      <td>[GLASTRIER, BUZZWOLE, CRESSELIA, NIHILEGO, SCR...</td>\n",
       "      <td>547</td>\n",
       "    </tr>\n",
       "    <tr>\n",
       "      <th>3</th>\n",
       "      <td>[FEZANDIPITI, TAPU_LELE, IRON_TREADS, VICTINI,...</td>\n",
       "      <td>358</td>\n",
       "    </tr>\n",
       "    <tr>\n",
       "      <th>4</th>\n",
       "      <td>[IRON_HANDS, MUNKIDORI, MUNKIDORI, FLUTTER_MAN...</td>\n",
       "      <td>347</td>\n",
       "    </tr>\n",
       "    <tr>\n",
       "      <th>...</th>\n",
       "      <td>...</td>\n",
       "      <td>...</td>\n",
       "    </tr>\n",
       "    <tr>\n",
       "      <th>95</th>\n",
       "      <td>[THUNDURUS, GUZZLORD, IRON_LEAVES, COSMOG, ZER...</td>\n",
       "      <td>459</td>\n",
       "    </tr>\n",
       "    <tr>\n",
       "      <th>96</th>\n",
       "      <td>[NIHILEGO, WO_CHIEN, FEZANDIPITI, VOLCANION, S...</td>\n",
       "      <td>331</td>\n",
       "    </tr>\n",
       "    <tr>\n",
       "      <th>97</th>\n",
       "      <td>[IRON_HANDS, RAIKOU, IRON_LEAVES, FEZANDIPITI,...</td>\n",
       "      <td>736</td>\n",
       "    </tr>\n",
       "    <tr>\n",
       "      <th>98</th>\n",
       "      <td>[BLACEPHALON, ENTEI, COBALION, POIPOLE, STAKAT...</td>\n",
       "      <td>472</td>\n",
       "    </tr>\n",
       "    <tr>\n",
       "      <th>99</th>\n",
       "      <td>[HEATRAN, MOLTRES, CRESSELIA, TERRAKION, MEW, ...</td>\n",
       "      <td>229</td>\n",
       "    </tr>\n",
       "  </tbody>\n",
       "</table>\n",
       "<p>100 rows × 2 columns</p>\n",
       "</div>"
      ],
      "text/plain": [
       "                                             egg_data counts\n",
       "0   [XURKITREE, SANDY_SHOCKS, AZELF, CRESSELIA, OK...    462\n",
       "1   [ZERAORA, TING_LU, BRUTE_BONNET, UXIE, KELDEO,...    371\n",
       "2   [GLASTRIER, BUZZWOLE, CRESSELIA, NIHILEGO, SCR...    547\n",
       "3   [FEZANDIPITI, TAPU_LELE, IRON_TREADS, VICTINI,...    358\n",
       "4   [IRON_HANDS, MUNKIDORI, MUNKIDORI, FLUTTER_MAN...    347\n",
       "..                                                ...    ...\n",
       "95  [THUNDURUS, GUZZLORD, IRON_LEAVES, COSMOG, ZER...    459\n",
       "96  [NIHILEGO, WO_CHIEN, FEZANDIPITI, VOLCANION, S...    331\n",
       "97  [IRON_HANDS, RAIKOU, IRON_LEAVES, FEZANDIPITI,...    736\n",
       "98  [BLACEPHALON, ENTEI, COBALION, POIPOLE, STAKAT...    472\n",
       "99  [HEATRAN, MOLTRES, CRESSELIA, TERRAKION, MEW, ...    229\n",
       "\n",
       "[100 rows x 2 columns]"
      ]
     },
     "execution_count": 11,
     "metadata": {},
     "output_type": "execute_result"
    }
   ],
   "source": [
    "#Run sim for 100 iterations using the new egg weights for epics\n",
    "run_egg_sim(epic_egg_new, 100)"
   ]
  },
  {
   "cell_type": "code",
   "execution_count": null,
   "id": "d24c68aa-fb36-48c7-88ef-5aa214b8ccf5",
   "metadata": {},
   "outputs": [],
   "source": []
  }
 ],
 "metadata": {
  "kernelspec": {
   "display_name": "Python 3 (ipykernel)",
   "language": "python",
   "name": "python3"
  },
  "language_info": {
   "codemirror_mode": {
    "name": "ipython",
    "version": 3
   },
   "file_extension": ".py",
   "mimetype": "text/x-python",
   "name": "python",
   "nbconvert_exporter": "python",
   "pygments_lexer": "ipython3",
   "version": "3.10.11"
  }
 },
 "nbformat": 4,
 "nbformat_minor": 5
}
