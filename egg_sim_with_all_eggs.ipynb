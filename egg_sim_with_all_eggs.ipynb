{
 "cells": [
  {
   "cell_type": "code",
   "execution_count": 12,
   "id": "1206db01-c3ee-4835-99a2-d33466cdf20c",
   "metadata": {
    "tags": []
   },
   "outputs": [],
   "source": [
    "import numpy as np\n",
    "import pandas as pd\n",
    "import matplotlib.pyplot as plt\n",
    "import seaborn as sns"
   ]
  },
  {
   "cell_type": "code",
   "execution_count": 2,
   "id": "b94dfa21-33c6-413a-bc15-ec451118e5cd",
   "metadata": {
    "tags": []
   },
   "outputs": [],
   "source": [
    "egg_weights = {\"Common\":203,\"Rare\":44,\"Epic\":7, \"Legendary\":1, \"Manaphy\":1}\n",
    "egg_weights_df = pd.DataFrame(egg_weights, index = [\"Weight\"]).T\n",
    "egg_weights_df = egg_weights_df.reset_index().rename(columns = {\"index\":\"Type\"})\n",
    "\n",
    "#Load new epic egg weights file (thank you c4v)\n",
    "epic_egg_new = pd.read_csv(\"epic_egg_weights_updated_fixed.csv\")\n",
    "epic_egg_new = epic_egg_new[:-1] #Drop the last row\n",
    "epic_egg_new[\"p\"] = epic_egg_new.loc[:,\"Weight\"]/epic_egg_new.loc[:,\"Weight\"].sum()\n",
    "\n",
    "paradox_new = list(epic_egg_new[epic_egg_new[\"Label\"] == \"PARADOX\"].iloc[:,0])\n",
    "egg_only_new = list(epic_egg_new[epic_egg_new[\"Label\"] == \"EGGSCLUSIVE\"].iloc[:,0])\n",
    "\n",
    "all_egg_only_new = paradox_new + egg_only_new"
   ]
  },
  {
   "cell_type": "code",
   "execution_count": 3,
   "id": "3f76bfed-a764-4f41-a05b-f54ff9414f63",
   "metadata": {
    "tags": []
   },
   "outputs": [
    {
     "data": {
      "text/html": [
       "<div>\n",
       "<style scoped>\n",
       "    .dataframe tbody tr th:only-of-type {\n",
       "        vertical-align: middle;\n",
       "    }\n",
       "\n",
       "    .dataframe tbody tr th {\n",
       "        vertical-align: top;\n",
       "    }\n",
       "\n",
       "    .dataframe thead th {\n",
       "        text-align: right;\n",
       "    }\n",
       "</style>\n",
       "<table border=\"1\" class=\"dataframe\">\n",
       "  <thead>\n",
       "    <tr style=\"text-align: right;\">\n",
       "      <th></th>\n",
       "      <th>Type</th>\n",
       "      <th>Weight</th>\n",
       "    </tr>\n",
       "  </thead>\n",
       "  <tbody>\n",
       "    <tr>\n",
       "      <th>0</th>\n",
       "      <td>Common</td>\n",
       "      <td>203</td>\n",
       "    </tr>\n",
       "    <tr>\n",
       "      <th>1</th>\n",
       "      <td>Rare</td>\n",
       "      <td>44</td>\n",
       "    </tr>\n",
       "    <tr>\n",
       "      <th>2</th>\n",
       "      <td>Epic</td>\n",
       "      <td>7</td>\n",
       "    </tr>\n",
       "    <tr>\n",
       "      <th>3</th>\n",
       "      <td>Legendary</td>\n",
       "      <td>1</td>\n",
       "    </tr>\n",
       "    <tr>\n",
       "      <th>4</th>\n",
       "      <td>Manaphy</td>\n",
       "      <td>1</td>\n",
       "    </tr>\n",
       "  </tbody>\n",
       "</table>\n",
       "</div>"
      ],
      "text/plain": [
       "        Type  Weight\n",
       "0     Common     203\n",
       "1       Rare      44\n",
       "2       Epic       7\n",
       "3  Legendary       1\n",
       "4    Manaphy       1"
      ]
     },
     "execution_count": 3,
     "metadata": {},
     "output_type": "execute_result"
    }
   ],
   "source": [
    "egg_weights_df"
   ]
  },
  {
   "cell_type": "code",
   "execution_count": 4,
   "id": "3ec1c76d-95ec-4503-9254-5274b715061c",
   "metadata": {
    "tags": []
   },
   "outputs": [],
   "source": [
    "egg_weights_df['p'] = egg_weights_df.loc[:,\"Weight\"]/egg_weights_df.loc[:,\"Weight\"].sum()"
   ]
  },
  {
   "cell_type": "code",
   "execution_count": 5,
   "id": "e419c137-e724-4dfc-bdf5-6c5164ba0fb4",
   "metadata": {
    "tags": []
   },
   "outputs": [],
   "source": [
    "def choose_egg(df):\n",
    "    return np.random.choice(df.iloc[:,0], p = df.loc[:,'p'])"
   ]
  },
  {
   "cell_type": "code",
   "execution_count": 6,
   "id": "6635db3e-74b3-43b2-98ea-ccd2e8536b3b",
   "metadata": {
    "tags": []
   },
   "outputs": [],
   "source": [
    "def complete_eggsclusives_full(df, epic_egg_df, epic_pity = -1, legend_pity =-1, egg_targets = all_egg_only_new):\n",
    "    egg_list = []\n",
    "    \n",
    "    cond = 0\n",
    "    \n",
    "    epic_counter = 0 \n",
    "    legend_counter = 0\n",
    "    \n",
    "    epic_pity_freq = 0\n",
    "    leg_pity_freq = 0\n",
    "    \n",
    "    #Check if egg_targets are in the random choices\n",
    "    all_possible_choices = list(df.iloc[:,0]) + list(epic_egg_df.iloc[:,0])\n",
    "    if set(egg_targets) <= set(all_possible_choices):\n",
    "        pass\n",
    "    else:\n",
    "        return \"Egg targets not in possible choices\"\n",
    "    \n",
    "    while cond == False:\n",
    "        epic_pity_hit = (epic_counter == epic_pity) #check if pity is hit\n",
    "        leg_pity_hit = (legend_counter == legend_pity)\n",
    "        \n",
    "        if leg_pity_hit: #Do this check first to prioritize leg pity over the epic pity\n",
    "            current_egg = \"Legend\"\n",
    "            legend_counter = 0\n",
    "            leg_pity_freq += 1\n",
    "            \n",
    "        elif epic_pity_hit:\n",
    "            current_egg = \"Epic\"\n",
    "            epic_counter = 0\n",
    "            epic_pity_freq += 1\n",
    "            \n",
    "        else:\n",
    "            current_egg = choose_egg(df) #Get random egg instead\n",
    "        \n",
    "        if (current_egg == \"Common\") | (current_egg == \"Rare\"): #Increment pity if you get common/rare\n",
    "            epic_counter += 1 #increment both counters if no epic or leg\n",
    "            legend_counter += 1\n",
    "        \n",
    "        elif current_egg == \"Epic\":\n",
    "            current_egg = choose_egg(epic_egg_df)\n",
    "            legend_counter += 1 #increment leg counter by 1\n",
    "            \n",
    "        elif current_egg == \"Legend\":\n",
    "            epic_counter += 1 #Increment epic counter by 1\n",
    "            \n",
    "        egg_list.append(current_egg) #append obtained egg\n",
    "        \n",
    "        cond = all(elem in egg_list for elem in egg_targets) #Check if all egg targets are obtained\n",
    "        \n",
    "    return egg_list, epic_pity_freq, leg_pity_freq"
   ]
  },
  {
   "cell_type": "code",
   "execution_count": 7,
   "id": "4688bbf7-fbd2-481c-9005-ac68397925a9",
   "metadata": {
    "tags": []
   },
   "outputs": [],
   "source": [
    "one_vic_target, epic_pity_freq, leg_pity_freq = complete_eggsclusives_full(egg_weights_df, epic_egg_new, epic_pity = 25, legend_pity = -1, egg_targets = [\"VICTINI\"])"
   ]
  },
  {
   "cell_type": "code",
   "execution_count": 8,
   "id": "1dba8dcd-c054-4f01-81d5-ad3378f6791e",
   "metadata": {
    "tags": []
   },
   "outputs": [
    {
     "data": {
      "text/plain": [
       "(127, 3444)"
      ]
     },
     "execution_count": 8,
     "metadata": {},
     "output_type": "execute_result"
    }
   ],
   "source": [
    "epic_pity_freq, len(one_vic_target)"
   ]
  },
  {
   "cell_type": "code",
   "execution_count": 9,
   "id": "4247cd6d-5562-41fd-84b6-89359d85f6cc",
   "metadata": {
    "tags": []
   },
   "outputs": [],
   "source": [
    "def run_full_egg_sim(df, epic_egg_df, epic_pity, legend_pity, num_realizations, filename, egg_targets = all_egg_only_new, save = True):\n",
    "    egg_collect = []\n",
    "    epic_pity_freq = []\n",
    "    leg_pity_freq = []\n",
    "\n",
    "    for i in range(num_realizations):\n",
    "        new_eggs, epic_freq, leg_freq = complete_eggsclusives_full(df, epic_egg_df, epic_pity, legend_pity, egg_targets)\n",
    "        egg_collect.append(new_eggs)\n",
    "        \n",
    "        epic_pity_freq.append(epic_freq)\n",
    "        leg_pity_freq.append(leg_freq)\n",
    "\n",
    "    egg_counts = [len(egg_list) for egg_list in egg_collect]\n",
    "\n",
    "    egg_realizations_new_df = pd.DataFrame([egg_collect , egg_counts, epic_pity_freq, leg_pity_freq]).T\n",
    "    egg_realizations_new_df.columns = [\"egg_data\", \"counts\", \"epic_pity_freq\", \"leg_pity_freq\"]\n",
    "    \n",
    "    # if save:\n",
    "    #     egg_realizations_new_df.to_pickle(filename) #Save DataFrame to a pickle file for storage\n",
    "    # else:\n",
    "    #     pass\n",
    "    \n",
    "    return egg_realizations_new_df"
   ]
  },
  {
   "cell_type": "code",
   "execution_count": 10,
   "id": "263efcfc-4043-4142-98e1-509f4267a22c",
   "metadata": {
    "tags": []
   },
   "outputs": [],
   "source": [
    "# full_sim_no_pity_1k = run_full_egg_sim(egg_weights_df, epic_egg_new, epic_pity = -1, legend_pity = -1, num_realizations = 1000, filename = \"full_sim_no_pity_1k.pkl\", egg_targets = all_egg_only_new, save = False)\n",
    "# print(\"Done running no pity\")\n",
    "\n",
    "# full_sim_25_epic_pity_1k = run_full_egg_sim(egg_weights_df, epic_egg_new, epic_pity = 25, legend_pity = 300, num_realizations = 1000, filename = \"full_sim_25_pity_1k.pkl\", egg_targets = all_egg_only_new, save = True)\n",
    "# print(\"Done running epic pity: 25\")\n",
    "\n",
    "# full_sim_72_epic_pity_1k = run_full_egg_sim(egg_weights_df, epic_egg_new, epic_pity = 72, legend_pity = 300, num_realizations = 1000, filename = \"full_sim_72_pity_1k.pkl\", egg_targets = all_egg_only_new, save = True)\n",
    "# print(\"Done running epic pity: 72\")"
   ]
  },
  {
   "cell_type": "code",
   "execution_count": 11,
   "id": "265876ed-4de5-4582-b629-5c19fe7175ea",
   "metadata": {},
   "outputs": [
    {
     "data": {
      "text/html": [
       "<div>\n",
       "<style scoped>\n",
       "    .dataframe tbody tr th:only-of-type {\n",
       "        vertical-align: middle;\n",
       "    }\n",
       "\n",
       "    .dataframe tbody tr th {\n",
       "        vertical-align: top;\n",
       "    }\n",
       "\n",
       "    .dataframe thead th {\n",
       "        text-align: right;\n",
       "    }\n",
       "</style>\n",
       "<table border=\"1\" class=\"dataframe\">\n",
       "  <thead>\n",
       "    <tr style=\"text-align: right;\">\n",
       "      <th></th>\n",
       "      <th>egg_data</th>\n",
       "      <th>counts</th>\n",
       "      <th>epic_pity_freq</th>\n",
       "      <th>leg_pity_freq</th>\n",
       "    </tr>\n",
       "  </thead>\n",
       "  <tbody>\n",
       "    <tr>\n",
       "      <th>0</th>\n",
       "      <td>[Common, Common, Common, Common, Rare, Common,...</td>\n",
       "      <td>12711</td>\n",
       "      <td>0</td>\n",
       "      <td>0</td>\n",
       "    </tr>\n",
       "    <tr>\n",
       "      <th>1</th>\n",
       "      <td>[Common, Common, Common, Common, Common, Commo...</td>\n",
       "      <td>15874</td>\n",
       "      <td>0</td>\n",
       "      <td>0</td>\n",
       "    </tr>\n",
       "    <tr>\n",
       "      <th>2</th>\n",
       "      <td>[Common, Rare, Common, Rare, Common, Common, R...</td>\n",
       "      <td>14785</td>\n",
       "      <td>0</td>\n",
       "      <td>0</td>\n",
       "    </tr>\n",
       "    <tr>\n",
       "      <th>3</th>\n",
       "      <td>[Rare, Common, Common, Common, Common, Common,...</td>\n",
       "      <td>13802</td>\n",
       "      <td>0</td>\n",
       "      <td>0</td>\n",
       "    </tr>\n",
       "    <tr>\n",
       "      <th>4</th>\n",
       "      <td>[Rare, Common, Common, Rare, Common, IRON_TREA...</td>\n",
       "      <td>13145</td>\n",
       "      <td>0</td>\n",
       "      <td>0</td>\n",
       "    </tr>\n",
       "    <tr>\n",
       "      <th>...</th>\n",
       "      <td>...</td>\n",
       "      <td>...</td>\n",
       "      <td>...</td>\n",
       "      <td>...</td>\n",
       "    </tr>\n",
       "    <tr>\n",
       "      <th>995</th>\n",
       "      <td>[Common, Common, Rare, Common, Common, Common,...</td>\n",
       "      <td>11388</td>\n",
       "      <td>0</td>\n",
       "      <td>0</td>\n",
       "    </tr>\n",
       "    <tr>\n",
       "      <th>996</th>\n",
       "      <td>[Common, Common, Common, BUZZWOLE, Common, Com...</td>\n",
       "      <td>20343</td>\n",
       "      <td>0</td>\n",
       "      <td>0</td>\n",
       "    </tr>\n",
       "    <tr>\n",
       "      <th>997</th>\n",
       "      <td>[Common, Common, Common, Rare, Common, Common,...</td>\n",
       "      <td>11815</td>\n",
       "      <td>0</td>\n",
       "      <td>0</td>\n",
       "    </tr>\n",
       "    <tr>\n",
       "      <th>998</th>\n",
       "      <td>[Rare, Common, Rare, Common, Common, Common, C...</td>\n",
       "      <td>20235</td>\n",
       "      <td>0</td>\n",
       "      <td>0</td>\n",
       "    </tr>\n",
       "    <tr>\n",
       "      <th>999</th>\n",
       "      <td>[Common, Rare, THUNDURUS, Common, Common, Comm...</td>\n",
       "      <td>14720</td>\n",
       "      <td>0</td>\n",
       "      <td>0</td>\n",
       "    </tr>\n",
       "  </tbody>\n",
       "</table>\n",
       "<p>1000 rows × 4 columns</p>\n",
       "</div>"
      ],
      "text/plain": [
       "                                              egg_data counts epic_pity_freq  \\\n",
       "0    [Common, Common, Common, Common, Rare, Common,...  12711              0   \n",
       "1    [Common, Common, Common, Common, Common, Commo...  15874              0   \n",
       "2    [Common, Rare, Common, Rare, Common, Common, R...  14785              0   \n",
       "3    [Rare, Common, Common, Common, Common, Common,...  13802              0   \n",
       "4    [Rare, Common, Common, Rare, Common, IRON_TREA...  13145              0   \n",
       "..                                                 ...    ...            ...   \n",
       "995  [Common, Common, Rare, Common, Common, Common,...  11388              0   \n",
       "996  [Common, Common, Common, BUZZWOLE, Common, Com...  20343              0   \n",
       "997  [Common, Common, Common, Rare, Common, Common,...  11815              0   \n",
       "998  [Rare, Common, Rare, Common, Common, Common, C...  20235              0   \n",
       "999  [Common, Rare, THUNDURUS, Common, Common, Comm...  14720              0   \n",
       "\n",
       "    leg_pity_freq  \n",
       "0               0  \n",
       "1               0  \n",
       "2               0  \n",
       "3               0  \n",
       "4               0  \n",
       "..            ...  \n",
       "995             0  \n",
       "996             0  \n",
       "997             0  \n",
       "998             0  \n",
       "999             0  \n",
       "\n",
       "[1000 rows x 4 columns]"
      ]
     },
     "execution_count": 11,
     "metadata": {},
     "output_type": "execute_result"
    }
   ],
   "source": [
    "run_full_egg_sim(egg_weights_df, epic_egg_new, epic_pity = -1, legend_pity = -1, num_realizations = 1000, filename = \"full_sim_no_pity_1k.pkl\", egg_targets = all_egg_only_new, save = False)"
   ]
  },
  {
   "cell_type": "code",
   "execution_count": null,
   "id": "ad4f19f5-10b8-4df3-b5f3-865cdbe19d5e",
   "metadata": {},
   "outputs": [],
   "source": []
  }
 ],
 "metadata": {
  "kernelspec": {
   "display_name": "Python 3 (ipykernel)",
   "language": "python",
   "name": "python3"
  },
  "language_info": {
   "codemirror_mode": {
    "name": "ipython",
    "version": 3
   },
   "file_extension": ".py",
   "mimetype": "text/x-python",
   "name": "python",
   "nbconvert_exporter": "python",
   "pygments_lexer": "ipython3",
   "version": "3.10.11"
  }
 },
 "nbformat": 4,
 "nbformat_minor": 5
}
